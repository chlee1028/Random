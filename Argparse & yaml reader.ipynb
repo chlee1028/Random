{
 "cells": [
  {
   "cell_type": "markdown",
   "metadata": {},
   "source": [
    "# Argparse\n",
    "\n",
    "Create a python script named **test_argparse.py**:\n",
    "\n",
    "```python\n",
    "\n",
    "import argparse\n",
    "\n",
    "parser = argparse.ArgumentParser()\n",
    "parser.add_argument(\"-d\",\"--date\", type=str, help=\"date in YYYY-MM-DD format\")\n",
    "parser.add_argument(\"-e\",\"--environment\", type=str, help=\"dev or prod\", choices=['dev','prod'], default='dev')\n",
    "args = parser.parse_args()\n",
    "\n",
    "date = args.date\n",
    "env = args.environment\n",
    "\n",
    "print('The date is {}, running script in {} mode'.format(date,env))\n",
    "```\n",
    "\n",
    "\n",
    "Run the script in python shell\n",
    "\n",
    ">python test_argparse.py -d 2019-01-23 -e prod\n",
    "\n",
    "Output:\n",
    "```\n",
    "The date is 2019-01-23, running script in prod mode\n",
    "```"
   ]
  },
  {
   "cell_type": "markdown",
   "metadata": {},
   "source": [
    "---\n",
    "\n",
    "# Yaml \n",
    "\n",
    "Advantage: Retain datatype\n",
    "\n",
    "Create a yaml file named **test.yaml**\n",
    "\n",
    "```yaml\n",
    "date: 2019-01-23 \n",
    "properties:\n",
    "  name: Harry\n",
    "  parents: ['James', 'Lily']\n",
    "  age: 11\n",
    "  alive: True\n",
    "```"
   ]
  },
  {
   "cell_type": "code",
   "execution_count": 3,
   "metadata": {},
   "outputs": [],
   "source": [
    "import yaml\n",
    "\n",
    "def load_yaml(path):\n",
    "    return yaml.load(open(path, 'r'))\n",
    "\n",
    "items = load_yaml('test.yaml')"
   ]
  },
  {
   "cell_type": "code",
   "execution_count": 5,
   "metadata": {},
   "outputs": [
    {
     "data": {
      "text/plain": [
       "datetime.date(2019, 1, 23)"
      ]
     },
     "execution_count": 5,
     "metadata": {},
     "output_type": "execute_result"
    }
   ],
   "source": [
    "items['date']"
   ]
  },
  {
   "cell_type": "code",
   "execution_count": 6,
   "metadata": {},
   "outputs": [
    {
     "data": {
      "text/plain": [
       "'Harry'"
      ]
     },
     "execution_count": 6,
     "metadata": {},
     "output_type": "execute_result"
    }
   ],
   "source": [
    "items['properties']['name']"
   ]
  },
  {
   "cell_type": "code",
   "execution_count": 7,
   "metadata": {},
   "outputs": [
    {
     "data": {
      "text/plain": [
       "['James', 'Lily']"
      ]
     },
     "execution_count": 7,
     "metadata": {},
     "output_type": "execute_result"
    }
   ],
   "source": [
    "items['properties']['parents']"
   ]
  },
  {
   "cell_type": "code",
   "execution_count": 12,
   "metadata": {},
   "outputs": [
    {
     "data": {
      "text/plain": [
       "True"
      ]
     },
     "execution_count": 12,
     "metadata": {},
     "output_type": "execute_result"
    }
   ],
   "source": [
    "items['properties']['alive'] == True"
   ]
  },
  {
   "cell_type": "code",
   "execution_count": null,
   "metadata": {},
   "outputs": [],
   "source": []
  }
 ],
 "metadata": {
  "kernelspec": {
   "display_name": "Python 3",
   "language": "python",
   "name": "python3"
  },
  "language_info": {
   "codemirror_mode": {
    "name": "ipython",
    "version": 3
   },
   "file_extension": ".py",
   "mimetype": "text/x-python",
   "name": "python",
   "nbconvert_exporter": "python",
   "pygments_lexer": "ipython3",
   "version": "3.7.0"
  }
 },
 "nbformat": 4,
 "nbformat_minor": 2
}
